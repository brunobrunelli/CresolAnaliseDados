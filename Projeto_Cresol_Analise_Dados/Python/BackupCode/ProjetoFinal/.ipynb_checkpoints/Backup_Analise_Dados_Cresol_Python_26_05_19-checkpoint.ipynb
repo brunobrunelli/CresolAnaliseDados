{
 "cells": [
  {
   "cell_type": "code",
   "execution_count": 1,
   "metadata": {},
   "outputs": [],
   "source": [
    "# Importação dos Pacotes:"
   ]
  },
  {
   "cell_type": "code",
   "execution_count": 2,
   "metadata": {},
   "outputs": [],
   "source": [
    "import shlex\n",
    "import pandas as pd\n",
    "from datetime import datetime "
   ]
  },
  {
   "cell_type": "code",
   "execution_count": 3,
   "metadata": {},
   "outputs": [],
   "source": [
    "# Extração de dados a partir de um arquivo \".log\":"
   ]
  },
  {
   "cell_type": "code",
   "execution_count": 4,
   "metadata": {},
   "outputs": [],
   "source": [
    "def extrair_dados_arquivo(nome_arquivo):\n",
    "    # Lógica de leitura dos dados do arquivo de Logs:\n",
    "    with open(nome_arquivo,mode=\"r\",encoding=\"utf-8\",newline=\"\\r\\n\") as f:\n",
    "        result = f.readlines()\n",
    "        \n",
    "    # Remove linhas em branco:\n",
    "    for i in result:\n",
    "        if i == '\\r\\n':\n",
    "            result.remove('\\r\\n')\n",
    "        \n",
    "    return result"
   ]
  },
  {
   "cell_type": "code",
   "execution_count": 5,
   "metadata": {},
   "outputs": [],
   "source": [
    "# Tramento dos dados de entrada extraídos do arquivo de log:"
   ]
  },
  {
   "cell_type": "code",
   "execution_count": 6,
   "metadata": {},
   "outputs": [],
   "source": [
    "def tratar_dados(result):\n",
    "    listaLog = []\n",
    "    \n",
    "    for i in range(len(result)):\n",
    "        lista, user_agent_lista= [], []\n",
    "\n",
    "        try:\n",
    "            # Separando o conteudo dentro de cada item da lista:\n",
    "            aux = shlex.split(result[i], posix=False)\n",
    "\n",
    "            # Lógica para percorrer as 9 primeiras colunas, inserindo na lista:\n",
    "            for f in range(10):\n",
    "                # Removendo caracter:\n",
    "                aux[f] = aux[f].replace('\"','')\n",
    "\n",
    "                # Lógica para remover a coluna '-':\n",
    "                if f != 1 and f != 3:\n",
    "                    \n",
    "                    # Lógica para incluir duas novas colunas (DATE e TIME):\n",
    "                    if f == 4: \n",
    "                        aux[f] = aux[f].replace('[','').replace(']','')\n",
    "                        lista.append(datetime.strptime(aux[f],'%Y-%m-%dT%H:%M:%SZ').strftime('%Y-%m-%d %H:%M:%S'))\n",
    "                        \n",
    "                    elif f == 5:\n",
    "                        # Pegamos apenas primeiro conteúdo da lista criada a partir 'aux' após separarmos:\n",
    "                        lista.append(aux[f].split(' ')[0])\n",
    "\n",
    "                        # Pegamos somente o valor de endpoint:\n",
    "                        lista.append('/'.join(aux[5].split(' ')[1].split('/')[0:2]))\n",
    "                        \n",
    "                    elif f == 9:\n",
    "                        # Remove caracteres indesejados da coluna:\n",
    "                        aux[f] = aux[f].replace('\\r\\n','')\n",
    "                        lista.append(aux[f].split(' ')[0])\n",
    "                        lista.append(aux[f])\n",
    "                        \n",
    "                    else:\n",
    "                        lista.append(aux[f])\n",
    "\n",
    "            # Incluímos os valores tratados da lista em uma sublista:\n",
    "            listaLog.append(lista)\n",
    "            \n",
    "            # Excluímos as listas carregadas da memória para desalocar espaço:\n",
    "            del lista\n",
    "            del user_agent_lista\n",
    "\n",
    "        except:\n",
    "            print('Erro: A lista contém valores que não são esperados na linha - '+ str(i))\n",
    "    \n",
    "    return listaLog"
   ]
  },
  {
   "cell_type": "code",
   "execution_count": null,
   "metadata": {},
   "outputs": [],
   "source": []
  },
  {
   "cell_type": "code",
   "execution_count": null,
   "metadata": {},
   "outputs": [],
   "source": []
  },
  {
   "cell_type": "markdown",
   "metadata": {},
   "source": [
    "---"
   ]
  },
  {
   "cell_type": "code",
   "execution_count": 7,
   "metadata": {},
   "outputs": [],
   "source": [
    "result_data = extrair_dados_arquivo(\"apacheLogTest.log\")"
   ]
  },
  {
   "cell_type": "code",
   "execution_count": 8,
   "metadata": {},
   "outputs": [],
   "source": [
    "lista_result_log = tratar_dados(result_data)"
   ]
  },
  {
   "cell_type": "code",
   "execution_count": 9,
   "metadata": {},
   "outputs": [],
   "source": [
    "# Criação de um DataSet a partir dos dados extraídos do arquivo:"
   ]
  },
  {
   "cell_type": "code",
   "execution_count": 164,
   "metadata": {},
   "outputs": [],
   "source": [
    "# Definindo uma lista com as Colunas do DataFrame:\n",
    "labels = ['IP_ADDRESS','USER','DATETIME','METHOD','ENDPOINT','STATUS_CODE','SIZE_OBJECT','REFER','BROWSER','USER_AGENT']"
   ]
  },
  {
   "cell_type": "code",
   "execution_count": 165,
   "metadata": {},
   "outputs": [],
   "source": [
    "# Criação do DataFrame a partir da lista de Logs:\n",
    "dfLog = pd.DataFrame(lista_result_log,columns=labels)"
   ]
  },
  {
   "cell_type": "code",
   "execution_count": 166,
   "metadata": {
    "scrolled": true
   },
   "outputs": [],
   "source": [
    "#dfLog.head(5)"
   ]
  },
  {
   "cell_type": "markdown",
   "metadata": {},
   "source": [
    "---"
   ]
  },
  {
   "cell_type": "code",
   "execution_count": 167,
   "metadata": {},
   "outputs": [],
   "source": [
    "#for index, val in top10_browser.iteritems():\n",
    "#    print(index, val)"
   ]
  },
  {
   "cell_type": "code",
   "execution_count": 293,
   "metadata": {},
   "outputs": [],
   "source": [
    "pd.options.mode.chained_assignment = None"
   ]
  },
  {
   "cell_type": "code",
   "execution_count": 294,
   "metadata": {},
   "outputs": [],
   "source": [
    "# os 5 (cinco) logins que mais efetuaram requisições;"
   ]
  },
  {
   "cell_type": "code",
   "execution_count": 295,
   "metadata": {},
   "outputs": [],
   "source": [
    "top5_user = dfLog['USER'].sort_values(ascending=False).value_counts().head(5)\n",
    "top5_user = list(dict(top5_user).keys())"
   ]
  },
  {
   "cell_type": "code",
   "execution_count": 296,
   "metadata": {},
   "outputs": [],
   "source": [
    "# os 10 (dez) browsers mais utilizados;"
   ]
  },
  {
   "cell_type": "code",
   "execution_count": 297,
   "metadata": {},
   "outputs": [],
   "source": [
    "top10_browser = dfLog['BROWSER'].value_counts().head(10)\n",
    "top10_browser = list(dict(top10_browser).keys())"
   ]
  },
  {
   "cell_type": "code",
   "execution_count": 298,
   "metadata": {},
   "outputs": [],
   "source": [
    "# os endereços de rede (classe C) com maior quantidade de requisições;"
   ]
  },
  {
   "cell_type": "code",
   "execution_count": 299,
   "metadata": {},
   "outputs": [],
   "source": [
    "top10_end_req = dfLog['IP_ADDRESS'][(pd.to_numeric(dfLog['IP_ADDRESS'].str.split('.').str[0]) >= 192) & \\\n",
    "                                    (pd.to_numeric(dfLog['IP_ADDRESS'].str.split('.').str[0]) <= 223)].value_counts().head(10)\n",
    "\n",
    "top10_end_req = list(dict(top10_end_req).keys())"
   ]
  },
  {
   "cell_type": "code",
   "execution_count": 300,
   "metadata": {},
   "outputs": [],
   "source": [
    "# Selecionando somente as colunas que serão utilizadas:\n",
    "dfbymin = dfLog.iloc[:,1:8]"
   ]
  },
  {
   "cell_type": "code",
   "execution_count": 301,
   "metadata": {},
   "outputs": [],
   "source": [
    "# Convertendo as colunas para os formatos desejaveis:\n",
    "\n",
    "dfbymin[\"HORA\"] = pd.to_datetime(dfbymin.loc[:,\"DATETIME\"]).dt.hour \n",
    "dfbymin[\"MINUTE\"] = pd.to_datetime(dfbymin.loc[:,\"DATETIME\"]).dt.minute\n",
    "dfbymin[\"SIZE_OBJECT\"] = pd.to_numeric(dfLog[\"SIZE_OBJECT\"])\n",
    "dfbymin[\"STATUS_CODE\"] = pd.to_numeric(dfLog[\"STATUS_CODE\"])"
   ]
  },
  {
   "cell_type": "code",
   "execution_count": 302,
   "metadata": {},
   "outputs": [],
   "source": [
    "# a hora com mais acesso no dia;"
   ]
  },
  {
   "cell_type": "code",
   "execution_count": 303,
   "metadata": {},
   "outputs": [],
   "source": [
    "# maior_hora = pd.to_datetime(dfLog[\"DATETIME\"]).dt.hour.value_counts().idxmax()\n",
    "hora_sucesso = dfbymin.iloc[:,[7]][\"HORA\"].value_counts().idxmax()"
   ]
  },
  {
   "cell_type": "code",
   "execution_count": 304,
   "metadata": {},
   "outputs": [],
   "source": [
    "# a hora com a maior quantidade de bytes;"
   ]
  },
  {
   "cell_type": "code",
   "execution_count": 305,
   "metadata": {},
   "outputs": [],
   "source": [
    "maior_hora_byte = dfbymin.groupby(\"HORA\").agg(\"SIZE_OBJECT\").mean().sort_values(ascending=False).idxmax()"
   ]
  },
  {
   "cell_type": "code",
   "execution_count": 306,
   "metadata": {},
   "outputs": [],
   "source": [
    "# o endpoint com maior consumo de bytes"
   ]
  },
  {
   "cell_type": "code",
   "execution_count": 307,
   "metadata": {},
   "outputs": [],
   "source": [
    "endpoint_maior_byte = dfbymin.groupby(\"ENDPOINT\").agg(\"SIZE_OBJECT\").mean().sort_values(ascending=False).idxmax()"
   ]
  },
  {
   "cell_type": "code",
   "execution_count": 308,
   "metadata": {},
   "outputs": [],
   "source": [
    "# a quantidade de bytes por minuto;"
   ]
  },
  {
   "cell_type": "code",
   "execution_count": 318,
   "metadata": {},
   "outputs": [],
   "source": [
    "qtd_byte_min = dict(dfbymin.groupby(\"MINUTE\").agg(\"SIZE_OBJECT\").mean())"
   ]
  },
  {
   "cell_type": "code",
   "execution_count": 255,
   "metadata": {},
   "outputs": [],
   "source": [
    "# a quantidade de bytes por hora;"
   ]
  },
  {
   "cell_type": "code",
   "execution_count": 320,
   "metadata": {},
   "outputs": [],
   "source": [
    "qtd_byte_hora = dict(dfbymin.groupby('HORA').agg('SIZE_OBJECT').mean())"
   ]
  },
  {
   "cell_type": "code",
   "execution_count": 257,
   "metadata": {},
   "outputs": [],
   "source": [
    "# a quantidade de usuários por minuto;"
   ]
  },
  {
   "cell_type": "code",
   "execution_count": 258,
   "metadata": {},
   "outputs": [],
   "source": [
    "dfqtd_min = dfbymin.iloc[:,[0,8]].drop_duplicates()\n",
    "qtd_user_min = dict(dfqtd_min.groupby([\"MINUTE\"]).size())"
   ]
  },
  {
   "cell_type": "code",
   "execution_count": 259,
   "metadata": {},
   "outputs": [],
   "source": [
    "# a quantidade de usuários por hora;"
   ]
  },
  {
   "cell_type": "code",
   "execution_count": 260,
   "metadata": {},
   "outputs": [],
   "source": [
    "dfqtd_hora = dfbymin.iloc[:,[0,7]].drop_duplicates()\n",
    "qtd_user_hora = dict(dfqtd_hora.groupby([\"HORA\"]).size())"
   ]
  },
  {
   "cell_type": "code",
   "execution_count": 261,
   "metadata": {},
   "outputs": [],
   "source": [
    "# a quantidade de requisições que tiveram erro de cliente, agrupadas por erro;"
   ]
  },
  {
   "cell_type": "code",
   "execution_count": 262,
   "metadata": {},
   "outputs": [],
   "source": [
    "df_error = dfbymin.iloc[:,[0,4]][(dfbymin[\"STATUS_CODE\"]>= 400) & (dfbymin[\"STATUS_CODE\"]<= 499)]\\\n",
    ".groupby([\"STATUS_CODE\"]).size().sort_values(ascending=False)\n",
    "\n",
    "req_cliente = dict(df_error)"
   ]
  },
  {
   "cell_type": "code",
   "execution_count": 263,
   "metadata": {},
   "outputs": [],
   "source": [
    "# a quantidade de requisições que tiveram sucesso;"
   ]
  },
  {
   "cell_type": "code",
   "execution_count": 400,
   "metadata": {},
   "outputs": [],
   "source": [
    "qtd_sucesso = list(dfbymin.iloc[:,[4]][(dfbymin[\"STATUS_CODE\"]>= 200) & (dfbymin[\"STATUS_CODE\"]<= 226)].count().values)"
   ]
  },
  {
   "cell_type": "code",
   "execution_count": 265,
   "metadata": {},
   "outputs": [],
   "source": [
    "# a quantidade de requisições que foram redirecionadas;"
   ]
  },
  {
   "cell_type": "code",
   "execution_count": 398,
   "metadata": {},
   "outputs": [],
   "source": [
    "qtd_redirecionado = list(dfbymin.iloc[:,[4]][(dfbymin[\"STATUS_CODE\"]>= 300) & (dfbymin[\"STATUS_CODE\"]<= 308)].count())"
   ]
  },
  {
   "cell_type": "markdown",
   "metadata": {},
   "source": [
    "---"
   ]
  },
  {
   "cell_type": "code",
   "execution_count": 411,
   "metadata": {},
   "outputs": [],
   "source": [
    "lista_resultado = [top5_user,top10_browser,top10_end_req,hora_sucesso,maior_hora_byte,endpoint_maior_byte,\\\n",
    "                   qtd_byte_min,qtd_user_min,qtd_user_hora,req_cliente,qtd_sucesso,qtd_redirecionado]"
   ]
  },
  {
   "cell_type": "code",
   "execution_count": null,
   "metadata": {},
   "outputs": [],
   "source": []
  }
 ],
 "metadata": {
  "kernelspec": {
   "display_name": "Python 3",
   "language": "python",
   "name": "python3"
  },
  "language_info": {
   "codemirror_mode": {
    "name": "ipython",
    "version": 3
   },
   "file_extension": ".py",
   "mimetype": "text/x-python",
   "name": "python",
   "nbconvert_exporter": "python",
   "pygments_lexer": "ipython3",
   "version": "3.7.3"
  }
 },
 "nbformat": 4,
 "nbformat_minor": 2
}
